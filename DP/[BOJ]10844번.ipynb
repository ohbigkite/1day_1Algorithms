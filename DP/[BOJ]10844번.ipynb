{
 "cells": [
  {
   "cell_type": "markdown",
   "metadata": {},
   "source": [
    "### 시도1"
   ]
  },
  {
   "cell_type": "markdown",
   "metadata": {},
   "source": [
    "n = int(input())\n",
    "\n",
    "d = [0] * n\n",
    "\n",
    "\n",
    "# 홀수면 d[n-1] -1\n",
    "# 짝수면 d[n-1] +1\n",
    "\n",
    "for i in range(2, n+1):\n",
    "    if i % 2 == 0 :\n",
    "        d[i] = d[i-1] - 1\n",
    "    else:\n",
    "        d[i] = d[i-1] + 1\n",
    "\n",
    "print(d[n])"
   ]
  },
  {
   "cell_type": "markdown",
   "metadata": {},
   "source": [
    "- 틀린 이유: 1차원 점화식으로 풀이함!\n",
    "- 점화식 4까지만 시도해보고 홀수일때와 짝수일때 케이스가 다른 것 같기에 시도해봄\n",
    "\n",
    "-d[1] = 9\n",
    "\n",
    "-d[2] = 17\n",
    "-> 10 12 / 21 23 / ... / 98 -> 2*8 -1\n",
    "\n",
    "- d[3] = 32\n",
    "-> 123 121 101 / 210 212 232 234 / ... 878 876 898 / 987 989  -> 3 + 4 * 6 + 3 + 2 = 32\n",
    "\n",
    "-d[4] = 63-> 1234 1232 1210 1212 1012 1010 2132 2134 2345 2343 2123 2121 2323 2321 * "
   ]
  },
  {
   "cell_type": "markdown",
   "metadata": {},
   "source": [
    "## 정답"
   ]
  },
  {
   "cell_type": "code",
   "execution_count": null,
   "metadata": {},
   "outputs": [],
   "source": [
    "def stairNum():\n",
    "    n = int(input())\n",
    "    dp = [[0] * 10 for i in range(n)]\n",
    "    dp[0] = [0,1,1,1,1,1,1,1,1,1]\n",
    "    for j in range(1,n):\n",
    "        for i in range(10):\n",
    "            if i == 0:\n",
    "                dp[j][i] = dp[j-1][1] \n",
    "            elif i == 9:\n",
    "                dp[j][i] = dp[j-1][8] \n",
    "            else:\n",
    "                dp[j][i] = dp[j-1][i-1] + dp[j-1][i+1] \n",
    "    \n",
    "    return sum(dp[n-1])\n",
    "\n",
    "print(stairNum()% 1000000000)\n"
   ]
  },
  {
   "cell_type": "markdown",
   "metadata": {},
   "source": [
    "### 문제풀이 핵심아이디어 또는 새롭게 알게된 내용: 2차원 배열 이용해서 DP!\n",
    "- 2차원 배열의 첫번째 차원에는 내가 알고자하는 n자리 수 계단숫자\n",
    "- 두번째 차원에는 첫번째 자리에 해당 숫자가 나올때의 경우의 수를 담는다! (0부터 9까지) \n",
    "- i = 0일때는, dp[j][i] = dp[j-1][1] -> 인접한 수가 1밖에 없으므로 이전 케이스의 1만 더해주기\n",
    "- i = 9일때는, dp[j][i] = dp[j-1][8] -> 인접한 수가 8밖에 없으므로 이전 케이스의 8만 더해주기\n",
    "- 나머지는 dp[j][i] = dp[j-1][i-1] + dp[j-1][i+1] -> 이전 케이스의 인접한 수 i-1과 i+1 수 더해주기"
   ]
  },
  {
   "cell_type": "markdown",
   "metadata": {},
   "source": [
    "- 주의할 점!\n",
    "- i = 9 케이스에서 elif말고 if 썼더니 틀렸었음!\n",
    "-> if문 2개면 항상 두 if문 조건 다 체크함! but, if elif문의 경우 if문이 만족되면 뒤의 elif문 조건은 체크 안 한다! "
   ]
  },
  {
   "cell_type": "markdown",
   "metadata": {},
   "source": []
  }
 ],
 "metadata": {
  "language_info": {
   "name": "python"
  }
 },
 "nbformat": 4,
 "nbformat_minor": 2
}
